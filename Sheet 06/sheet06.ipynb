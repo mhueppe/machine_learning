{
 "cells": [
  {
   "cell_type": "markdown",
   "id": "4e98d161",
   "metadata": {
    "deletable": false,
    "editable": false,
    "nbgrader": {
     "cell_type": "markdown",
     "checksum": "6bd1a7235f844ff174a795a6efe33a78",
     "grade": false,
     "grade_id": "h00",
     "locked": true,
     "schema_version": 3,
     "solution": false
    }
   },
   "source": [
    "Osnabrück University - Machine Learning (Summer Term 2021) - Prof. Dr.-Ing. G. Heidemann, Ulf Krumnack, Axel Schaffland"
   ]
  },
  {
   "cell_type": "markdown",
   "id": "818f6ac2",
   "metadata": {
    "deletable": false,
    "editable": false,
    "nbgrader": {
     "cell_type": "markdown",
     "checksum": "2fefc8f217c09e543f0e43c61d89fc89",
     "grade": false,
     "grade_id": "h01",
     "locked": true,
     "schema_version": 3,
     "solution": false
    }
   },
   "source": [
    "# Exercise Sheet 06: Dimension Reduction"
   ]
  },
  {
   "cell_type": "markdown",
   "id": "6499e8f2",
   "metadata": {
    "deletable": false,
    "editable": false,
    "heading_collapsed": true,
    "nbgrader": {
     "cell_type": "markdown",
     "checksum": "48bca4ef74ae1ef476f792abb5e75691",
     "grade": false,
     "grade_id": "h02",
     "locked": true,
     "schema_version": 3,
     "solution": false
    }
   },
   "source": [
    "## Introduction\n",
    "\n",
    "This week's sheet should be solved and handed in before the end of **Tuesday, June 1, 2021**. If you need help (and Google and other resources were not enough), feel free to contact your groups designated tutor or whomever of us you run into first. Please upload your results to your group's Stud.IP folder."
   ]
  },
  {
   "cell_type": "markdown",
   "id": "141bcc3a",
   "metadata": {},
   "source": [
    "## Useful python methods\n",
    "\n",
    "* For K-Means\n",
    "    * [scipy.cluster.vq.vq](https://docs.scipy.org/doc/scipy/reference/generated/scipy.cluster.vq.vq.html)\n",
    "    * [scipy.cluster.vq.kmeans](https://docs.scipy.org/doc/scipy/reference/generated/scipy.cluster.vq.kmeans.html)\n",
    "* For PCA    \n",
    "    * [sklearn.decomposition.PCA](https://scikit-learn.org/stable/modules/generated/sklearn.decomposition.PCA.html)\n",
    "* To plot arrows\n",
    "    * [matplotlib.pyplot.quiver](https://matplotlib.org/stable/api/_as_gen/matplotlib.pyplot.quiver.html)\n",
    "* Numpy\n",
    "    * [np.mean](https://numpy.org/doc/stable/reference/generated/numpy.mean.html#numpy.mean)\n",
    "    * [@ / np.matmul](https://numpy.org/doc/stable/reference/generated/numpy.matmul.html#numpy.matmul)\n",
    "    * [np.std](https://numpy.org/doc/stable/reference/generated/numpy.std.html#numpy.std)\n",
    "    * [np.divide](https://numpy.org/doc/stable/reference/generated/numpy.divide.html?highlight=divide)\n",
    "         * The `where` parameter can be used to only divide were the divisor is nonzero. The `out` parameter has to be used then as well.\n",
    "    * [.T / np.transpose](https://numpy.org/doc/stable/reference/generated/numpy.transpose.html#numpy.transpose)"
   ]
  },
  {
   "cell_type": "markdown",
   "id": "6c3f590c",
   "metadata": {
    "deletable": false,
    "editable": false,
    "nbgrader": {
     "cell_type": "markdown",
     "checksum": "8849d367311b309967240d6fcc5b5cd0",
     "grade": false,
     "grade_id": "cell-26f189cc4f9865c1",
     "locked": true,
     "schema_version": 3,
     "solution": false
    }
   },
   "source": [
    "## Assignment 1: Covariance and correlation matrix [5 Points]"
   ]
  },
  {
   "cell_type": "markdown",
   "id": "17ad37f6",
   "metadata": {
    "deletable": false,
    "editable": false,
    "nbgrader": {
     "cell_type": "markdown",
     "checksum": "0be322b92d88bd7aa947b178c80832fe",
     "grade": false,
     "grade_id": "cell-b2aebe0aabf8db03",
     "locked": true,
     "schema_version": 3,
     "solution": false
    }
   },
   "source": [
    "**a)** Recap: What is the covariance matrix? What do the different entries of the matrix mean?"
   ]
  },
  {
   "cell_type": "markdown",
   "id": "35c016ed",
   "metadata": {
    "deletable": false,
    "nbgrader": {
     "cell_type": "markdown",
     "checksum": "7e38327010723cbbf66fd5dc57ad3d4e",
     "grade": true,
     "grade_id": "cell-bd9c31f2e24eac43",
     "locked": false,
     "points": 1,
     "schema_version": 3,
     "solution": true
    }
   },
   "source": [
    "YOUR ANSWER HERE"
   ]
  },
  {
   "cell_type": "markdown",
   "id": "471234c0",
   "metadata": {
    "deletable": false,
    "editable": false,
    "nbgrader": {
     "cell_type": "markdown",
     "checksum": "b629218e5ada4e3f0a256837e4a1ed7f",
     "grade": false,
     "grade_id": "cell-567b831bb3eb84cd",
     "locked": true,
     "schema_version": 3,
     "solution": false
    }
   },
   "source": [
    "**b)** Calculate the covariance and correlation matrices for the given dataset.\n",
    "\n",
    "|    |  feature x  |  feature y  |\n",
    "|-------|------|-----|\n",
    "| **sample A** |  2 | 3 |\n",
    "| **sample B** | 4 | 7 |\n"
   ]
  },
  {
   "cell_type": "markdown",
   "id": "61b28349",
   "metadata": {
    "deletable": false,
    "nbgrader": {
     "cell_type": "markdown",
     "checksum": "3920ef158eef07c2fa413712f2345bf3",
     "grade": true,
     "grade_id": "cell-8594d318796af945",
     "locked": false,
     "points": 1,
     "schema_version": 3,
     "solution": true
    }
   },
   "source": [
    "YOUR ANSWER HERE"
   ]
  },
  {
   "cell_type": "markdown",
   "id": "e6b07751",
   "metadata": {
    "deletable": false,
    "editable": false,
    "nbgrader": {
     "cell_type": "markdown",
     "checksum": "66c77687b8c6ddf43a54df0379d15b67",
     "grade": false,
     "grade_id": "cell-6ebef2c8d8ea9ef8",
     "locked": true,
     "schema_version": 3,
     "solution": false
    }
   },
   "source": [
    "**c)** Execute the next cell. You can see three data sets. Which of the three covariance matrices below belongs to which plot?"
   ]
  },
  {
   "cell_type": "code",
   "execution_count": null,
   "id": "88ee610e",
   "metadata": {
    "deletable": false,
    "editable": false,
    "nbgrader": {
     "cell_type": "code",
     "checksum": "386aff00c9558cb28f4dd22ca3344981",
     "grade": false,
     "grade_id": "cell-16f29c1eaf43f3d7",
     "locked": true,
     "schema_version": 3,
     "solution": false
    }
   },
   "outputs": [],
   "source": [
    "%matplotlib inline\n",
    "import numpy as np\n",
    "import matplotlib.pyplot as plt\n",
    "\n",
    "plt.figure(figsize = (20,5))\n",
    "factors = [-1,1,0]\n",
    "names = [\"a\", \"b\", \"c\"]\n",
    "datasets = []\n",
    "for i, factor in enumerate(factors):\n",
    "    x = np.array(np.arange(100).tolist() + np.arange(100).tolist())\n",
    "    if factor!=0:\n",
    "        y = x * factor + (np.random.rand(len(x))-0.5)*30 + (50-50*(factor))\n",
    "    else:\n",
    "        y = np.array([50 for _ in range(len(x))]) + (np.random.rand(len(x))-0.5)*30\n",
    "    plt.subplot(1,len(factors),i+1)\n",
    "    plt.scatter(x,y)\n",
    "    plt.title(\"Dataset \"+names[i], fontsize = 30)\n",
    "    plt.xlabel(\"x\", fontsize = 20)\n",
    "    plt.ylabel(\"y\", fontsize = 20)\n",
    "    plt.ylim(0, 100)\n",
    "    plt.xlim(0, 100)\n",
    "    datasets.append(np.stack([x, y], axis = 1))\n",
    "plt.show()"
   ]
  },
  {
   "cell_type": "markdown",
   "id": "ed1da01f",
   "metadata": {
    "deletable": false,
    "editable": false,
    "nbgrader": {
     "cell_type": "markdown",
     "checksum": "948b81b61f2ce0d59700fb5a2d7a8f90",
     "grade": false,
     "grade_id": "cell-5d81f7209716d42a",
     "locked": true,
     "schema_version": 3,
     "solution": false
    }
   },
   "source": [
    "**Covariance matrix I:**\n",
    "\n",
    "| C1    |  x  |  y  |\n",
    "|-------|-----|-----|\n",
    "| **x** | 837 | -856 |\n",
    "| **y** | -856 | 951 |\n",
    "\n",
    "**Covariance matrix II:**\n",
    "\n",
    " | C2 | x | y |\n",
    " | ---|---|---|\n",
    " |   **x** |  837 | 8  |\n",
    " |   **y** | 8  |  65 |\n",
    "\n",
    "\n",
    "**Covariance matrix III:**\n",
    "\n",
    "| C3 | x | y |\n",
    "| ---|---|---|\n",
    "|   **x** |  837 | 828  |\n",
    "|   **y**| 828  |  900 |\n"
   ]
  },
  {
   "cell_type": "markdown",
   "id": "0346c31f",
   "metadata": {
    "deletable": false,
    "nbgrader": {
     "cell_type": "markdown",
     "checksum": "bf45462c85c6d9081616a70c6b5cac34",
     "grade": true,
     "grade_id": "cell-cedc2d0ce28f6b8d",
     "locked": false,
     "points": 1,
     "schema_version": 3,
     "solution": true
    }
   },
   "source": [
    "YOUR ANSWER HERE"
   ]
  },
  {
   "cell_type": "markdown",
   "id": "94ebca5b",
   "metadata": {
    "deletable": false,
    "editable": false,
    "nbgrader": {
     "cell_type": "markdown",
     "checksum": "999163447cf9cec5dc27c396a8c21a94",
     "grade": false,
     "grade_id": "cell-a93ee44940ef1b55",
     "locked": true,
     "schema_version": 3,
     "solution": false
    }
   },
   "source": [
    "**d) Implement the formula for the correlation matrix [1 Point]**\n",
    "\n",
    "A general formula for the correlation matrix is\n",
    "$$ A = \\frac{1}{n-1}\\frac{(\\bf{X}-\\bar{x})^T(\\bf{X}-\\bar{x})}{{\\boldsymbol{\\sigma^T}}{\\boldsymbol{\\sigma}}}$$\n",
    "\n",
    "Were $\\bf{X}$ is the dataset with the datapoints as rows, $\\bf{\\bar{x}}$ is the row vector of feature means, $\\boldsymbol{\\sigma}$ is the row vector of standard deviations, and the large fraction bar stands for pointwise division.\n",
    "\n",
    "We can better understand the formula with an example dataset $\\bf{X}$ with three datapoints and two features $x$ and $y$. Then with $\\bf{\\bar{x}} = (\\mu_x, \\mu_y)$ and $\\boldsymbol{\\sigma} = (\\sigma_x, \\sigma_y)$ the formula becomes:\n",
    "\n",
    "$$ A = \\frac{1}{n-1} \\frac{\\begin{bmatrix}\n",
    "    (x_1-\\mu_x) & (x_2-\\mu_x) & (x_3-\\mu_x)\\\\\n",
    "    (y_1-\\mu_y) & (y_2-\\mu_y) & (y_3-\\mu_y)\n",
    "        \\end{bmatrix}\\times\\begin{bmatrix}\n",
    "    (x_1-\\mu_x) & (y_1-\\mu_y)\\\\\n",
    "    (x_2-\\mu_x) & (y_2-\\mu_y)\\\\\n",
    "    (x_3-\\mu_x) & (y_3-\\mu_y)\n",
    "        \\end{bmatrix}}{\\begin{bmatrix}\n",
    "    \\sigma_x\\sigma_x & \\sigma_x\\sigma_y\\\\\n",
    "    \\sigma_y\\sigma_x & \\sigma_y\\sigma_y\n",
    "    \\end{bmatrix}}\n",
    "$$\n",
    "\n",
    "This will evalute to the normal definition for the 2D case:\n",
    "$$A =\n",
    "\\begin{bmatrix}\n",
    "    corr(x,x) & corr(x,y) \\\\\n",
    "    corr(y,x) & corr(y,y)\n",
    "\\end{bmatrix}$$\n",
    "\n",
    "with\n",
    "$$corr(x,y) = \\frac{cov(x,y)}{\\sigma_x\\sigma_y}$$\n",
    "\n",
    "and\n",
    "$$cov(x,y) = \\frac{1}{n-1}\\sum_{i=1}^{n}(x_i-\\mu_x)(y_i-\\mu_y)$$\n",
    "\n",
    "where $x_i$ is the value for feature $x$ of the $i$th datapoint, $\\mu_x$ the mean of feature $x$ and $\\sigma_x$ the standard deviation of feature $x$.\n",
    "\n",
    "Now implement the general formula above.\n",
    "\n",
    "\n",
    "Make sure to make your implementation work for more than two dimensional data as well!\n",
    "\n",
    "Then execute the cell below which shows the correlation matrices for the datasets of task c."
   ]
  },
  {
   "cell_type": "code",
   "execution_count": null,
   "id": "02148443",
   "metadata": {
    "deletable": false,
    "nbgrader": {
     "cell_type": "code",
     "checksum": "92e6d7a6b8f7d3a44d0b93de01564e24",
     "grade": true,
     "grade_id": "cell-00c56f79c4638bbdd",
     "locked": false,
     "points": 1,
     "schema_version": 3,
     "solution": true
    }
   },
   "outputs": [],
   "source": [
    "%matplotlib inline\n",
    "def correlation(data):\n",
    "    \"\"\"\n",
    "    Input is an array of the form number_data * dimensions\n",
    "    An example is shown when this cell is executed\n",
    "    \"\"\"\n",
    "    # YOUR CODE HERE\n",
    "    # YOUR CODE HERE\n",
    "\n",
    "\n",
    "## DELETE COMMENTS TO SHOW THE DATA USED FOR ASSERTION\n",
    "#example_x = [2,2,2]\n",
    "#example_y = [1,2,3]\n",
    "#example_data = np.stack([[1,2,3], [2,2,2]], axis=1)\n",
    "#plt.scatter(example_x, example_y)\n",
    "#plt.show()\n",
    "\n",
    "test_data1 = np.stack([[1,2,3], [2,2,2]], axis=1)\n",
    "cor1 = correlation(test_data1)\n",
    "real_cor1 = [[1.0, 0.0], [0.0, 0.0]]\n",
    "\n",
    "test_data2 = np.stack([[1,2,3], [4,5,6]], axis=1)\n",
    "cor2 = correlation(test_data2)\n",
    "real_cor2 = [[1,1], [1,1]]\n",
    "\n",
    "assert np.allclose(cor1, real_cor1), \"Wrong output: correlation should be \\n {} \\n for this data, is \\n {}\".format(real_cor1, cor1)\n",
    "assert np.allclose(cor2, real_cor2), \"Wrong output: correlation should be \\n {} \\n for this data, is \\n {}\".format(real_cor2, cor2)"
   ]
  },
  {
   "cell_type": "code",
   "execution_count": null,
   "id": "a04c0453",
   "metadata": {},
   "outputs": [],
   "source": [
    "# the data of task c is saved in a list called datasets\n",
    "for i, d in enumerate(datasets):\n",
    "    print(\"Correlation matrix for data set\", names[i], \"\\n\", correlation(d), \"\\n\")"
   ]
  },
  {
   "cell_type": "markdown",
   "id": "7a0a9dbf",
   "metadata": {
    "deletable": false,
    "editable": false,
    "nbgrader": {
     "cell_type": "markdown",
     "checksum": "4fa5471928fac69b0b05e8ea90a3cf9e",
     "grade": false,
     "grade_id": "cell-6dc44b01aa2a6ebb",
     "locked": true,
     "schema_version": 3,
     "solution": false
    }
   },
   "source": [
    "**e)** What is the difference between the correlation matrix and covariance matrix? Do you have an idea when to use which for PCA?"
   ]
  },
  {
   "cell_type": "markdown",
   "id": "24352037",
   "metadata": {
    "deletable": false,
    "nbgrader": {
     "cell_type": "markdown",
     "checksum": "af194a450ceab79586d38356d0763c32",
     "grade": true,
     "grade_id": "cell-77e57257880bd198",
     "locked": false,
     "points": 1,
     "schema_version": 3,
     "solution": true
    }
   },
   "source": [
    "YOUR ANSWER HERE"
   ]
  },
  {
   "cell_type": "markdown",
   "id": "f3024540",
   "metadata": {
    "deletable": false,
    "editable": false,
    "nbgrader": {
     "cell_type": "markdown",
     "checksum": "a382cc7af13dc12bc9d930259a03470e",
     "grade": false,
     "grade_id": "ex1",
     "locked": true,
     "schema_version": 3,
     "solution": false
    }
   },
   "source": [
    "## Assignment 2: Local PCA (5 Points)"
   ]
  },
  {
   "cell_type": "markdown",
   "id": "4a27d6bd",
   "metadata": {
    "deletable": false,
    "editable": false,
    "nbgrader": {
     "cell_type": "markdown",
     "checksum": "a7d73e08c8691a284a111ef4e5754489",
     "grade": false,
     "grade_id": "ex_intro",
     "locked": true,
     "schema_version": 3,
     "solution": false
    }
   },
   "source": [
    "In the lecture we learned that regular PCA is ill suited for special cases of data. In this assignment we will take a look at local PCA which is used for clustered data (ML-06, Slide 25). This is mostly a repetition of algorithms we already used. Feel free to use the built-in functions for k-means clustering and PCA from the libraries (we already included the right imports to set you on track)."
   ]
  },
  {
   "cell_type": "code",
   "execution_count": null,
   "id": "42e11634",
   "metadata": {
    "deletable": false,
    "nbgrader": {
     "cell_type": "code",
     "checksum": "0fbdfdf2d5590511defbd5a98f30fc2f",
     "grade": true,
     "grade_id": "ex_a_solution",
     "locked": false,
     "points": 5,
     "schema_version": 3,
     "solution": true
    }
   },
   "outputs": [],
   "source": [
    "%matplotlib notebook\n",
    "\n",
    "import numpy as np\n",
    "import numpy.random as rnd\n",
    "import matplotlib.pyplot as plt\n",
    "\n",
    "from numpy.random import multivariate_normal as multNorm\n",
    "\n",
    "from scipy.cluster.vq import kmeans, vq\n",
    "from sklearn.decomposition import PCA\n",
    "\n",
    "np.random.seed(42)\n",
    "\n",
    "# Generate clustered data - you may plot the data to take a look at it\n",
    "data = np.vstack((multNorm([2, 2], [[0.1, 0], [0, 1]], 100),\n",
    "                  multNorm([-2, -4], [[1, 0], [0, 0.3]], 100)))\n",
    "\n",
    "# TODO: Apply k-means to the data.\n",
    "# YOUR CODE HERE\n",
    "\n",
    "# TODO: Apply PCA for each cluster and store each two largest components.\n",
    "# YOUR CODE HERE\n",
    "\n",
    "# TODO: Plot the results of k-means and local PCA\n",
    "# YOUR CODE HERE"
   ]
  },
  {
   "cell_type": "markdown",
   "id": "362390bf",
   "metadata": {
    "deletable": false,
    "editable": false,
    "nbgrader": {
     "cell_type": "markdown",
     "checksum": "a6997ee0313f994aec208454f450bb1b",
     "grade": false,
     "grade_id": "ex2",
     "locked": true,
     "schema_version": 3,
     "solution": false
    }
   },
   "source": [
    "## Assignment 3: Data Visualization and Chernoff Faces (3 Points)"
   ]
  },
  {
   "cell_type": "markdown",
   "id": "328856c9",
   "metadata": {
    "deletable": false,
    "editable": false,
    "nbgrader": {
     "cell_type": "markdown",
     "checksum": "4828f2fd814bc44d0764ad0673577296",
     "grade": false,
     "grade_id": "ex2_intro",
     "locked": true,
     "schema_version": 3,
     "solution": false
    }
   },
   "source": [
    "The following exercise contains no programming (unless you want to go through the implementation). Answer the questions that are posted below the code segment (and run the code before - it's really worth it!). In case you are even more interested - here is a link to the [original paper](http://www.dtic.mil/cgi-bin/GetTRDoc?AD=AD0738473)."
   ]
  },
  {
   "cell_type": "code",
   "execution_count": null,
   "id": "97dd1391",
   "metadata": {},
   "outputs": [],
   "source": [
    "%matplotlib notebook\n",
    "\n",
    "import matplotlib.pyplot as plt\n",
    "from matplotlib.patches import Ellipse, Arc\n",
    "from numpy.random import rand\n",
    "import numpy as np\n",
    "\n",
    "def cface(ax, x1, x2, x3, x4, x5, x6, x7, x8, x9, x10, x11, x12, x13, x14, x15, x16, x17, x18):\n",
    "    \"\"\"\n",
    "    This implementation of chernov faces is taken from Abraham Flaxman. You can\n",
    "    find the original source files here: https://gist.github.com/aflaxman/4043086\n",
    "    Only minor adjustments have been made.\n",
    "\n",
    "     x1 = height  of upper face\n",
    "     x2 = overlap of lower face\n",
    "     x3 = half of vertical size of face\n",
    "     x4 = width of upper face\n",
    "     x5 = width of lower face\n",
    "     x6 = length of nose\n",
    "     x7 = vertical position of mouth\n",
    "     x8 = curvature of mouth\n",
    "     x9 = width of mouth\n",
    "     x10 = vertical position of eyes\n",
    "     x11 = separation of eyes\n",
    "     x12 = slant of eyes\n",
    "     x13 = eccentricity of eyes\n",
    "     x14 = size of eyes\n",
    "     x15 = position of pupils\n",
    "     x16 = vertical position of eyebrows\n",
    "     x17 = slant of eyebrows\n",
    "     x18 = size of eyebrows\n",
    "    \"\"\"\n",
    "\n",
    "    # transform some values so that input between 0,1 yields variety of output\n",
    "    x3 = 1.9 * (x3 - .5)\n",
    "    x4 = (x4 + .25)\n",
    "    x5 = (x5 + .2)\n",
    "    x6 = .3 * (x6 + .01)\n",
    "    x8 = 5 * (x8 + .001)\n",
    "    x11 /= 5\n",
    "    x12 = 2 * (x12 - .5)\n",
    "    x13 += .05\n",
    "    x14 += .1\n",
    "    x15 = .5 * (x15 - .5)\n",
    "    x16 = .25 * x16\n",
    "    x17 = .5 * (x17 - .5)\n",
    "    x18 = .5 * (x18 + .1)\n",
    "\n",
    "    # top of face, in box with l=-x4, r=x4, t=x1, b=x3\n",
    "    e = Ellipse((0, (x1 + x3) / 2), 2 * x4, (x1 - x3), ec='black', linewidth=2)\n",
    "    ax.add_artist(e)\n",
    "\n",
    "    # bottom of face, in box with l=-x5, r=x5, b=-x1, t=x2+x3\n",
    "    e = Ellipse((0, (-x1 + x2 + x3) / 2), 2 * x5, (x1 + x2 + x3), fc='white', ec='black', linewidth=2)\n",
    "    ax.add_artist(e)\n",
    "\n",
    "    # cover overlaps\n",
    "    e = Ellipse((0, (x1 + x3) / 2), 2 * x4, (x1 - x3), fc='white', ec='none')\n",
    "    ax.add_artist(e)\n",
    "    e = Ellipse((0, (-x1 + x2 + x3) / 2), 2 * x5, (x1 + x2 + x3), fc='white', ec='none')\n",
    "    ax.add_artist(e)\n",
    "\n",
    "    # draw nose\n",
    "    plt.plot([0, 0], [-x6 / 2, x6 / 2], 'k')\n",
    "\n",
    "    # draw mouth\n",
    "    p = Arc((0, -x7 + .5 / x8), 1 / x8, 1 / x8, theta1=270 - 180 / np.pi * np.arctan(x8 * x9),\n",
    "            theta2=270 + 180 / np.pi * np.arctan(x8 * x9))\n",
    "    ax.add_artist(p)\n",
    "\n",
    "    # draw eyes\n",
    "    p = Ellipse((-x11 - x14 / 2, x10), x14, x13 * x14, angle=-180 / np.pi * x12, fc='white', ec='black')\n",
    "    ax.add_artist(p)\n",
    "\n",
    "    p = Ellipse((x11 + x14 / 2, x10), x14, x13 * x14, angle=180 / np.pi * x12, fc='white', ec='black')\n",
    "    ax.add_artist(p)\n",
    "\n",
    "    # draw pupils\n",
    "    p = Ellipse((-x11 - x14 / 2 - x15 * x14 / 2, x10), .05, .05, facecolor='black')\n",
    "    ax.add_artist(p)\n",
    "    p = Ellipse((x11 + x14 / 2 - x15 * x14 / 2, x10), .05, .05, facecolor='black')\n",
    "    ax.add_artist(p)\n",
    "\n",
    "    # draw eyebrows\n",
    "    ax.plot([-x11 - x14 / 2 - x14 * x18 / 2, -x11 - x14 / 2 + x14 * x18 / 2],\n",
    "            [x10 + x13 * x14 * (x16 + x17), x10 + x13 * x14 * (x16 - x17)], 'k')\n",
    "    ax.plot([x11 + x14 / 2 + x14 * x18 / 2, x11 + x14 / 2 - x14 * x18 / 2],\n",
    "            [x10 + x13 * x14 * (x16 + x17), x10 + x13 * x14 * (x16 - x17)], 'k')\n",
    "\n",
    "\n",
    "fig, axes = plt.subplots(nrows=5, ncols=5, num='Chernoff Faces', figsize=(9, 9))\n",
    "for ax in axes.flat:\n",
    "    cface(ax, .9, *rand(17))\n",
    "    ax.axis([-1.2, 1.2, -1.2, 1.2])\n",
    "    ax.set(xticks=[], yticks=[])\n",
    "\n",
    "fig.subplots_adjust(hspace=0, wspace=0)\n"
   ]
  },
  {
   "cell_type": "markdown",
   "id": "c9192844",
   "metadata": {
    "deletable": false,
    "editable": false,
    "nbgrader": {
     "cell_type": "markdown",
     "checksum": "1f156ca42cad42d49ededbf47abf8dd9",
     "grade": false,
     "grade_id": "ex2_a",
     "locked": true,
     "schema_version": 3,
     "solution": false
    }
   },
   "source": [
    "### a) Data Visualization Techniques\n",
    "\n",
    "Why do we need data visualization techniques and what are techniques to visualize high dimensional data?"
   ]
  },
  {
   "cell_type": "markdown",
   "id": "28376c4a",
   "metadata": {
    "deletable": false,
    "nbgrader": {
     "cell_type": "markdown",
     "checksum": "c7180ee205e447ec74954fb547aed4fa",
     "grade": true,
     "grade_id": "ex2_a_solution",
     "locked": false,
     "points": 1,
     "schema_version": 3,
     "solution": true
    }
   },
   "source": [
    "YOUR ANSWER HERE"
   ]
  },
  {
   "cell_type": "markdown",
   "id": "c6169aad",
   "metadata": {
    "deletable": false,
    "editable": false,
    "nbgrader": {
     "cell_type": "markdown",
     "checksum": "ea86a6cbb36039ff38544d8db40b61af",
     "grade": false,
     "grade_id": "ex2_b",
     "locked": true,
     "schema_version": 3,
     "solution": false
    }
   },
   "source": [
    "### b) Chernoff faces\n",
    "\n",
    "Why did Chernoff use faces for his representation? Why not something else, like dogs or houses?"
   ]
  },
  {
   "cell_type": "markdown",
   "id": "ece16fe5",
   "metadata": {
    "deletable": false,
    "nbgrader": {
     "cell_type": "markdown",
     "checksum": "dab2c90645187b4347545c46a591364b",
     "grade": true,
     "grade_id": "ex2_b_solution",
     "locked": false,
     "points": 1,
     "schema_version": 3,
     "solution": true
    }
   },
   "source": [
    "YOUR ANSWER HERE"
   ]
  },
  {
   "cell_type": "markdown",
   "id": "de73cb7d",
   "metadata": {
    "deletable": false,
    "editable": false,
    "nbgrader": {
     "cell_type": "markdown",
     "checksum": "e541a1ef74e6a8bc43b1029e4bfe3129",
     "grade": false,
     "grade_id": "ex2_c",
     "locked": true,
     "schema_version": 3,
     "solution": false
    }
   },
   "source": [
    "### c) Alternatives\n",
    "\n",
    "Explain at least one other data visualization technique from the lecture."
   ]
  },
  {
   "cell_type": "markdown",
   "id": "3d7ee486",
   "metadata": {
    "deletable": false,
    "nbgrader": {
     "cell_type": "markdown",
     "checksum": "66556e394184be3dfd3b9dbeac95c483",
     "grade": true,
     "grade_id": "ex2_c_solution",
     "locked": false,
     "points": 1,
     "schema_version": 3,
     "solution": true
    }
   },
   "source": [
    "YOUR ANSWER HERE"
   ]
  }
 ],
 "metadata": {
  "kernelspec": {
   "display_name": "Python 3",
   "language": "python",
   "name": "python3"
  },
  "language_info": {
   "codemirror_mode": {
    "name": "ipython",
    "version": 3
   },
   "file_extension": ".py",
   "mimetype": "text/x-python",
   "name": "python",
   "nbconvert_exporter": "python",
   "pygments_lexer": "ipython3",
   "version": "3.6.13"
  }
 },
 "nbformat": 4,
 "nbformat_minor": 5
}
